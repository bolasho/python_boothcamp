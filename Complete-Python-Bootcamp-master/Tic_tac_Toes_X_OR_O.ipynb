{
 "cells": [
  {
   "cell_type": "code",
   "execution_count": 1,
   "metadata": {},
   "outputs": [
    {
     "name": "stdout",
     "output_type": "stream",
     "text": [
      "please enter your name  narthan\n",
      "please enter your name  daddy\n",
      "The player who goes first is ['narthan']\n"
     ]
    }
   ],
   "source": [
    "#choose who play first\n",
    "import numpy as np\n",
    "player1=raw_input(\"please enter your name  \")\n",
    "player2=raw_input(\"please enter your name  \")\n",
    "choices=[]\n",
    "choices.append(player1)\n",
    "choices.append(player2)\n",
    "N=np.random.choice(choices, 1, p=[0.5, 0.5])\n",
    "print(\"The player who goes first is {}\".format(N))\n",
    "\n"
   ]
  },
  {
   "cell_type": "code",
   "execution_count": 2,
   "metadata": {},
   "outputs": [
    {
     "name": "stdout",
     "output_type": "stream",
     "text": [
      "please enter X or O x\n",
      "welcome\n"
     ]
    }
   ],
   "source": [
    "player_1= 'X' or 'O'\n",
    "while player_1!= 'X' or 'O':\n",
    "    player_1=raw_input(\"please enter X or O \").upper()\n",
    "    if player_1 == 'X' or  player_1 =='O' :\n",
    "        print(\"welcome\")\n",
    "        break\n",
    "    else: \n",
    "        print(\"Sorry please choose Either 'X' or 'O'\")"
   ]
  },
  {
   "cell_type": "code",
   "execution_count": 3,
   "metadata": {},
   "outputs": [
    {
     "name": "stdout",
     "output_type": "stream",
     "text": [
      "please enter 'X' or 'O'o\n",
      "welcome\n"
     ]
    }
   ],
   "source": [
    "player_2= 'X' or 'O'\n",
    "\n",
    "while player_2 !='X' or 'O':\n",
    "    player_2=raw_input(\"please enter 'X' or 'O'\").upper()\n",
    "    if player_2 == player_1:\n",
    "        print(\"Sorry player_1 already has that please choose that\", player_2)\n",
    "    elif player_2 != player_1 and player_2== 'X' or player_2=='O':\n",
    "        \n",
    "        print(\"welcome\")\n",
    "        break\n",
    "    else:\n",
    "        print(\"Sorry please choose Either 'X' or 'O'\")"
   ]
  },
  {
   "cell_type": "code",
   "execution_count": 4,
   "metadata": {},
   "outputs": [
    {
     "data": {
      "text/plain": [
       "['X', 'O']"
      ]
     },
     "execution_count": 4,
     "metadata": {},
     "output_type": "execute_result"
    }
   ],
   "source": [
    "choicez=[]\n",
    "choicez.append(player_1)\n",
    "choicez.append(player_2)\n",
    "choicez"
   ]
  },
  {
   "cell_type": "code",
   "execution_count": 5,
   "metadata": {},
   "outputs": [],
   "source": [
    "import numpy as np\n",
    "#choices=['X','O']\n",
    "choices=choicez\n",
    "T=np.random.choice(choices, 9, p=[0.5, 0.5])\n",
    "T=T.reshape((3, 3))\n",
    "#T"
   ]
  },
  {
   "cell_type": "code",
   "execution_count": 6,
   "metadata": {},
   "outputs": [
    {
     "name": "stdout",
     "output_type": "stream",
     "text": [
      "Player_2 is the winner and matches winning positions : 1 times\n",
      "[['X' 'X' 'O']\n",
      " ['O' 'O' 'X']\n",
      " ['O' 'X' 'O']]\n"
     ]
    }
   ],
   "source": [
    "winning_comb= [   \n",
    "             [T[0][0],T[1][1],T[2][2]],\n",
    "             [T[0][1],T[1][1],T[2][1]],\n",
    "             [T[0][2],T[1][1],T[2][0]],\n",
    "             [T[0][0],T[1][0],T[2][0]],\n",
    "             [T[0][2],T[1][2],T[2][2]],\n",
    "             [T[1][0],T[1][1],T[1][2]]\n",
    "               ]\n",
    "count_1=0\n",
    "count_2=0\n",
    "for i in winning_comb:\n",
    "    if i==[player_1] *3:\n",
    "        count_1 +=1\n",
    "    elif i==[player_2] *3:\n",
    "        count_2=count_2 +1\n",
    "#print(count_1)  \n",
    "#print(count_2)\n",
    "if count_1 > count_2:\n",
    "    print(\"Player_1 is the winner and matches winning positions : {} times\".format(count_1))\n",
    "    print(T)\n",
    "elif count_2 > count_1:\n",
    "    print(\"Player_2 is the winner and matches winning positions : {} times\".format(count_2))\n",
    "    print(T)\n",
    "else:\n",
    "    print(\"Draw\")\n",
    "    print(T)\n"
   ]
  },
  {
   "cell_type": "code",
   "execution_count": null,
   "metadata": {},
   "outputs": [],
   "source": []
  },
  {
   "cell_type": "code",
   "execution_count": null,
   "metadata": {},
   "outputs": [],
   "source": []
  }
 ],
 "metadata": {
  "kernelspec": {
   "display_name": "python3.6",
   "language": "python",
   "name": "python3.6"
  },
  "language_info": {
   "codemirror_mode": {
    "name": "ipython",
    "version": 2
   },
   "file_extension": ".py",
   "mimetype": "text/x-python",
   "name": "python",
   "nbconvert_exporter": "python",
   "pygments_lexer": "ipython2",
   "version": "2.7.11"
  }
 },
 "nbformat": 4,
 "nbformat_minor": 1
}
