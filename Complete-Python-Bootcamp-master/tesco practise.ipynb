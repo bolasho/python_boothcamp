{
 "cells": [
  {
   "cell_type": "code",
   "execution_count": 10,
   "metadata": {},
   "outputs": [],
   "source": [
    "def fibon(f):\n",
    "    a = 20\n",
    "    b = 21\n",
    "    output = []\n",
    "    \n",
    "    for i in range(10):\n",
    "        output.append(a)\n",
    "        a,b = b,a+b\n",
    "    if f in output:\n",
    "        print(\"yes\")\n",
    "    else:\n",
    "        print(\"No\")\n",
    "        \n",
    "    return output"
   ]
  },
  {
   "cell_type": "code",
   "execution_count": 14,
   "metadata": {},
   "outputs": [
    {
     "name": "stdout",
     "output_type": "stream",
     "text": [
      "yes\n"
     ]
    },
    {
     "data": {
      "text/plain": [
       "[20, 21, 41, 62, 103, 165, 268, 433, 701, 1134]"
      ]
     },
     "execution_count": 14,
     "metadata": {},
     "output_type": "execute_result"
    }
   ],
   "source": [
    "fibon(268)"
   ]
  },
  {
   "cell_type": "code",
   "execution_count": 23,
   "metadata": {},
   "outputs": [],
   "source": [
    "def fib(g):\n",
    "    a=0\n",
    "    b=1\n",
    "    output=[]\n",
    "    for i in range(100):\n",
    "        output.append(a)\n",
    "        a,b= b, a+b\n",
    "    if g in output:\n",
    "        print(\"Yes\")\n",
    "    else:\n",
    "        print(\"No\")\n",
    "    return output,\n",
    "    \n",
    "        "
   ]
  },
  {
   "cell_type": "code",
   "execution_count": 24,
   "metadata": {},
   "outputs": [
    {
     "name": "stdout",
     "output_type": "stream",
     "text": [
      "No\n"
     ]
    },
    {
     "data": {
      "text/plain": [
       "([0,\n",
       "  1,\n",
       "  1,\n",
       "  2,\n",
       "  3,\n",
       "  5,\n",
       "  8,\n",
       "  13,\n",
       "  21,\n",
       "  34,\n",
       "  55,\n",
       "  89,\n",
       "  144,\n",
       "  233,\n",
       "  377,\n",
       "  610,\n",
       "  987,\n",
       "  1597,\n",
       "  2584,\n",
       "  4181,\n",
       "  6765,\n",
       "  10946,\n",
       "  17711,\n",
       "  28657,\n",
       "  46368,\n",
       "  75025,\n",
       "  121393,\n",
       "  196418,\n",
       "  317811,\n",
       "  514229,\n",
       "  832040,\n",
       "  1346269,\n",
       "  2178309,\n",
       "  3524578,\n",
       "  5702887,\n",
       "  9227465,\n",
       "  14930352,\n",
       "  24157817,\n",
       "  39088169,\n",
       "  63245986,\n",
       "  102334155,\n",
       "  165580141,\n",
       "  267914296,\n",
       "  433494437,\n",
       "  701408733,\n",
       "  1134903170,\n",
       "  1836311903,\n",
       "  2971215073,\n",
       "  4807526976,\n",
       "  7778742049,\n",
       "  12586269025,\n",
       "  20365011074,\n",
       "  32951280099,\n",
       "  53316291173,\n",
       "  86267571272,\n",
       "  139583862445,\n",
       "  225851433717,\n",
       "  365435296162,\n",
       "  591286729879,\n",
       "  956722026041,\n",
       "  1548008755920,\n",
       "  2504730781961,\n",
       "  4052739537881,\n",
       "  6557470319842,\n",
       "  10610209857723,\n",
       "  17167680177565,\n",
       "  27777890035288,\n",
       "  44945570212853,\n",
       "  72723460248141,\n",
       "  117669030460994,\n",
       "  190392490709135,\n",
       "  308061521170129,\n",
       "  498454011879264,\n",
       "  806515533049393,\n",
       "  1304969544928657,\n",
       "  2111485077978050,\n",
       "  3416454622906707,\n",
       "  5527939700884757,\n",
       "  8944394323791464,\n",
       "  14472334024676221,\n",
       "  23416728348467685,\n",
       "  37889062373143906,\n",
       "  61305790721611591,\n",
       "  99194853094755497,\n",
       "  160500643816367088,\n",
       "  259695496911122585,\n",
       "  420196140727489673,\n",
       "  679891637638612258,\n",
       "  1100087778366101931,\n",
       "  1779979416004714189,\n",
       "  2880067194370816120,\n",
       "  4660046610375530309,\n",
       "  7540113804746346429,\n",
       "  12200160415121876738,\n",
       "  19740274219868223167,\n",
       "  31940434634990099905,\n",
       "  51680708854858323072,\n",
       "  83621143489848422977,\n",
       "  135301852344706746049,\n",
       "  218922995834555169026],)"
      ]
     },
     "execution_count": 24,
     "metadata": {},
     "output_type": "execute_result"
    }
   ],
   "source": [
    "fib(555)"
   ]
  },
  {
   "cell_type": "code",
   "execution_count": null,
   "metadata": {},
   "outputs": [],
   "source": [
    "#code a function that returns the n_th element of a numerical sequence  "
   ]
  },
  {
   "cell_type": "code",
   "execution_count": 77,
   "metadata": {},
   "outputs": [],
   "source": [
    "def num_seq(n):\n",
    "    import random\n",
    "    rand=random.randint(10,100)\n",
    "    seq=[i for i in range(rand)]\n",
    "    for n in range(len(seq)):\n",
    "    #print(s)\n",
    "        print(seq)[n]\n",
    "    \n"
   ]
  },
  {
   "cell_type": "code",
   "execution_count": 78,
   "metadata": {},
   "outputs": [
    {
     "name": "stdout",
     "output_type": "stream",
     "text": [
      "[0, 1, 2, 3, 4, 5, 6, 7, 8, 9, 10, 11, 12, 13, 14, 15, 16, 17]\n"
     ]
    },
    {
     "ename": "TypeError",
     "evalue": "'NoneType' object is not subscriptable",
     "output_type": "error",
     "traceback": [
      "\u001b[1;31m---------------------------------------------------------------------------\u001b[0m",
      "\u001b[1;31mTypeError\u001b[0m                                 Traceback (most recent call last)",
      "\u001b[1;32m<ipython-input-78-4cc06c19f2d1>\u001b[0m in \u001b[0;36m<module>\u001b[1;34m()\u001b[0m\n\u001b[1;32m----> 1\u001b[1;33m \u001b[0mnum_seq\u001b[0m\u001b[1;33m(\u001b[0m\u001b[1;36m10\u001b[0m\u001b[1;33m)\u001b[0m\u001b[1;33m\u001b[0m\u001b[0m\n\u001b[0m",
      "\u001b[1;32m<ipython-input-77-1e1f56918bc9>\u001b[0m in \u001b[0;36mnum_seq\u001b[1;34m(n)\u001b[0m\n\u001b[0;32m      5\u001b[0m     \u001b[1;32mfor\u001b[0m \u001b[0mn\u001b[0m \u001b[1;32min\u001b[0m \u001b[0mrange\u001b[0m\u001b[1;33m(\u001b[0m\u001b[0mlen\u001b[0m\u001b[1;33m(\u001b[0m\u001b[0mseq\u001b[0m\u001b[1;33m)\u001b[0m\u001b[1;33m)\u001b[0m\u001b[1;33m:\u001b[0m\u001b[1;33m\u001b[0m\u001b[0m\n\u001b[0;32m      6\u001b[0m     \u001b[1;31m#print(s)\u001b[0m\u001b[1;33m\u001b[0m\u001b[1;33m\u001b[0m\u001b[0m\n\u001b[1;32m----> 7\u001b[1;33m         \u001b[0mprint\u001b[0m\u001b[1;33m(\u001b[0m\u001b[0mseq\u001b[0m\u001b[1;33m)\u001b[0m\u001b[1;33m[\u001b[0m\u001b[0mn\u001b[0m\u001b[1;33m]\u001b[0m\u001b[1;33m\u001b[0m\u001b[0m\n\u001b[0m\u001b[0;32m      8\u001b[0m \u001b[1;33m\u001b[0m\u001b[0m\n",
      "\u001b[1;31mTypeError\u001b[0m: 'NoneType' object is not subscriptable"
     ]
    }
   ],
   "source": [
    "num_seq(10)"
   ]
  },
  {
   "cell_type": "code",
   "execution_count": 68,
   "metadata": {},
   "outputs": [
    {
     "ename": "IndentationError",
     "evalue": "unexpected indent (<ipython-input-68-733b39f0f74f>, line 5)",
     "output_type": "error",
     "traceback": [
      "\u001b[1;36m  File \u001b[1;32m\"<ipython-input-68-733b39f0f74f>\"\u001b[1;36m, line \u001b[1;32m5\u001b[0m\n\u001b[1;33m    return s\u001b[0m\n\u001b[1;37m    ^\u001b[0m\n\u001b[1;31mIndentationError\u001b[0m\u001b[1;31m:\u001b[0m unexpected indent\n"
     ]
    }
   ],
   "source": [
    "import random\n",
    "rand=random.randint(10,100)\n",
    "seq=[i for i in range(rand)]\n",
    "s=[seq[n] for n in range(len(seq))]\n",
    "print(s)"
   ]
  },
  {
   "cell_type": "code",
   "execution_count": null,
   "metadata": {},
   "outputs": [],
   "source": []
  }
 ],
 "metadata": {
  "kernelspec": {
   "display_name": "Python 3",
   "language": "python",
   "name": "python3"
  },
  "language_info": {
   "codemirror_mode": {
    "name": "ipython",
    "version": 3
   },
   "file_extension": ".py",
   "mimetype": "text/x-python",
   "name": "python",
   "nbconvert_exporter": "python",
   "pygments_lexer": "ipython3",
   "version": "3.6.1"
  }
 },
 "nbformat": 4,
 "nbformat_minor": 2
}
