{
 "cells": [
  {
   "cell_type": "code",
   "execution_count": 1,
   "metadata": {
    "collapsed": true
   },
   "outputs": [],
   "source": [
    "a=['Ace', 2, 3, 4, 5, 6, 7, 8, 9, 10, 'Jack', 'Queen', 'King']\n",
    "b=['Spades', 'Hearts', 'Diamonds', 'Clubs']"
   ]
  },
  {
   "cell_type": "code",
   "execution_count": 2,
   "metadata": {},
   "outputs": [
    {
     "name": "stdout",
     "output_type": "stream",
     "text": [
      "{'Hearts': 2, 'Clubs': 4, 'Spades': 'Ace', 'Diamonds': 3}\n"
     ]
    }
   ],
   "source": [
    "for i in a:\n",
    "    d=dict(zip(b,a))\n",
    "print(d)"
   ]
  },
  {
   "cell_type": "code",
   "execution_count": 1,
   "metadata": {},
   "outputs": [
    {
     "name": "stdout",
     "output_type": "stream",
     "text": [
      "['Ace', 2, 3, 4, 5, 6, 7, 8, 9, 10, 'Jack', 'Queen', 'King', 'Ace', 2, 3, 4, 5, 6, 7, 8, 9, 10, 'Jack', 'Queen', 'King', 'Ace', 2, 3, 4, 5, 6, 7, 8, 9, 10, 'Jack', 'Queen', 'King', 'Ace', 2, 3, 4, 5, 6, 7, 8, 9, 10, 'Jack', 'Queen', 'King']\n"
     ]
    }
   ],
   "source": [
    "t=['Ace', 2, 3, 4, 5, 6, 7, 8, 9, 10, 'Jack', 'Queen', 'King']*4\n",
    "print(t)"
   ]
  },
  {
   "cell_type": "code",
   "execution_count": 2,
   "metadata": {},
   "outputs": [],
   "source": [
    "def Pick_cards():\n",
    "    import random\n",
    "    from random import shuffle\n",
    "    random.shuffle(t)\n",
    "#print(t)\n",
    "    p=random.sample(t,2)\n",
    "    #print(p)\n",
    "    for i in range(len(p)):\n",
    "        if p[i] == 'Ace':\n",
    "            p[i] = 11 \n",
    "        elif p[i]== 'Queen':\n",
    "            p[i]=10\n",
    "        elif p[i]== 'King':\n",
    "            p[i]=10\n",
    "        elif p[i]== 'Jack':\n",
    "            p[i]=10\n",
    "    return p"
   ]
  },
  {
   "cell_type": "code",
   "execution_count": 3,
   "metadata": {},
   "outputs": [],
   "source": [
    "def Pick_cards_2():\n",
    "    import random\n",
    "    from random import shuffle\n",
    "    random.shuffle(t)\n",
    "#print(t)\n",
    "    p=random.sample(t,1)\n",
    "    #print(p)\n",
    "    for i in range(len(p)):\n",
    "        if p[i] == 'Ace':\n",
    "            p[i] = 11 \n",
    "        elif p[i]== 'Queen':\n",
    "            p[i]=10\n",
    "        elif p[i]== 'King':\n",
    "            p[i]=10\n",
    "        elif p[i]== 'Jack':\n",
    "            p[i]=10\n",
    "    print(\"hit\")\n",
    "    print(p)\n",
    "    return p"
   ]
  },
  {
   "cell_type": "code",
   "execution_count": 4,
   "metadata": {},
   "outputs": [
    {
     "name": "stdout",
     "output_type": "stream",
     "text": [
      "hit\n",
      "[3]\n"
     ]
    },
    {
     "data": {
      "text/plain": [
       "[3]"
      ]
     },
     "execution_count": 4,
     "metadata": {},
     "output_type": "execute_result"
    }
   ],
   "source": [
    "Pick_cards_2()"
   ]
  },
  {
   "cell_type": "code",
   "execution_count": 5,
   "metadata": {},
   "outputs": [],
   "source": [
    "def Play():\n",
    "    player=[]\n",
    "    ply=Pick_cards()\n",
    "#print(ply)\n",
    "    player.append(ply)\n",
    "    player_total=sum(player[0])\n",
    "    #print(\"Player\")\n",
    "    print(\"players_hand :\", player, \"Player's_total :\",player_total)\n",
    "    return player_total"
   ]
  },
  {
   "cell_type": "code",
   "execution_count": 6,
   "metadata": {},
   "outputs": [
    {
     "name": "stdout",
     "output_type": "stream",
     "text": [
      "('players_hand :', [[4, 4]], \"Player's_total :\", 8)\n"
     ]
    },
    {
     "data": {
      "text/plain": [
       "8"
      ]
     },
     "execution_count": 6,
     "metadata": {},
     "output_type": "execute_result"
    }
   ],
   "source": [
    "Play()"
   ]
  },
  {
   "cell_type": "code",
   "execution_count": 7,
   "metadata": {},
   "outputs": [],
   "source": [
    "def Deal():\n",
    "    dealer=[]\n",
    "    dlr=Pick_cards()\n",
    "#print(ply)\n",
    "    dealer.append(dlr)\n",
    "    dealer_total=sum(dealer[0])\n",
    "    #print(\"Dealer\")\n",
    "    dealer[0][0]='*'\n",
    "    #dealer[0][1]='*'\n",
    "    print(\"Dealers_hand :\", dealer, \"Dealers_total : \",dealer_total)\n",
    "\n",
    "    return dealer_total"
   ]
  },
  {
   "cell_type": "code",
   "execution_count": 8,
   "metadata": {},
   "outputs": [
    {
     "name": "stdout",
     "output_type": "stream",
     "text": [
      "('Dealers_hand :', [['*', 2]], 'Dealers_total : ', 5)\n"
     ]
    },
    {
     "data": {
      "text/plain": [
       "5"
      ]
     },
     "execution_count": 8,
     "metadata": {},
     "output_type": "execute_result"
    }
   ],
   "source": [
    "Deal()\n"
   ]
  },
  {
   "cell_type": "code",
   "execution_count": 9,
   "metadata": {},
   "outputs": [],
   "source": [
    "class Player(object):\n",
    "    def __init__(self,deposit):\n",
    "        self.deposit=deposit\n",
    "        print(self.deposit)\n",
    "    def add_amount(self,amount):\n",
    "        #self.amoount=amount\n",
    "        self.deposit +=amount\n",
    "        return self.deposit\n",
    "    def remove_amount(self,amount):\n",
    "        self.deposit-=amount\n",
    "        return self.deposit\n",
    "    def balance(self):\n",
    "        print(self.deposit)"
   ]
  },
  {
   "cell_type": "code",
   "execution_count": 10,
   "metadata": {},
   "outputs": [
    {
     "name": "stdout",
     "output_type": "stream",
     "text": [
      "please credit your account :500\n"
     ]
    }
   ],
   "source": [
    "Amount=int(input(\"please credit your account :\"))"
   ]
  },
  {
   "cell_type": "code",
   "execution_count": 11,
   "metadata": {},
   "outputs": [
    {
     "name": "stdout",
     "output_type": "stream",
     "text": [
      "how much are you willing to bet today :10\n"
     ]
    }
   ],
   "source": [
    "Bet=int(input(\"how much are you willing to bet today :\"))"
   ]
  },
  {
   "cell_type": "code",
   "execution_count": 12,
   "metadata": {},
   "outputs": [
    {
     "name": "stdout",
     "output_type": "stream",
     "text": [
      "500\n"
     ]
    }
   ],
   "source": [
    "Nat=Player(Amount)\n",
    "#print(Nat)"
   ]
  },
  {
   "cell_type": "code",
   "execution_count": 14,
   "metadata": {},
   "outputs": [
    {
     "name": "stdout",
     "output_type": "stream",
     "text": [
      "517.0\n",
      "('Dealers_hand :', [['*', 8]], 'Dealers_total : ', 14)\n",
      "('players_hand :', [[6, 5]], \"Player's_total :\", 11)\n",
      "Do you want to stand or hit :hit\n",
      "hit\n",
      "[5]\n",
      "16\n",
      "You won 17.0\n",
      "('Your balance is:', 534.0)\n"
     ]
    }
   ],
   "source": [
    "#extra_card = Pick_cards_2()\n",
    "import time\n",
    "#bal=0\n",
    "while Nat.balance() >= 0:\n",
    "    x= \"------------Burst------------------- \" *6\n",
    "\n",
    "    for i in x.split():\n",
    "        print(i)\n",
    "        time.sleep(1)\n",
    "    print(\"Please credit your account\")\n",
    "    break\n",
    "\n",
    "    \n",
    "\n",
    "    \n",
    "New_Deal=Deal()\n",
    "New_play=Play()   \n",
    "if New_play <= 16:\n",
    "    stand_hit=raw_input(\"Do you want to stand or hit :\").lower()\n",
    "    if stand_hit == \"hit\":\n",
    "        extra_card = Pick_cards_2()\n",
    "        New_play = New_play + extra_card[0]\n",
    "        print(New_play)\n",
    "        if New_Deal  <= 21 and New_Deal > New_play or New_play >21:\n",
    "            print(\"sorry you loss {}\".format(Bet))\n",
    "            print(Nat.remove_amount(Bet))\n",
    "        else:\n",
    "    \n",
    "            print(\"You won {}\".format(Bet*1.7))\n",
    "            print(\"Your balance is:\" ,Nat.add_amount(Bet *1.7))\n",
    "    \n",
    "    elif stand_hit == \"stand\":\n",
    "        #New_play \n",
    "        if New_Deal  <= 21 and New_Deal > New_play or New_play > 21:\n",
    "            print(\"sorry you loss {}\".format(Bet))\n",
    "            print(\"Your balnce is :\",Nat.remove_amount(Bet))\n",
    "\n",
    "        \n",
    "elif New_Deal  <= 21 and New_Deal > New_play or New_play > 21:\n",
    "    print(\"sorry you loss {}\".format(Bet))\n",
    "    print(Nat.remove_amount(Bet))\n",
    "elif  New_Deal  ==  New_play :\n",
    "    print(\"split\")\n",
    "    print(Nat.balance())\n",
    "elif  New_play == 21:\n",
    "    print(\"Hooray You won Blackjack\")\n",
    " \n",
    "        \n",
    "else:\n",
    "    #print(\"You Won \")\n",
    "    print(\"You won {}\".format(Bet*1.7))\n",
    "    print(\"Your balance is:\" ,Nat.add_amount(Bet *1.7))    "
   ]
  },
  {
   "cell_type": "code",
   "execution_count": 18,
   "metadata": {},
   "outputs": [
    {
     "name": "stdout",
     "output_type": "stream",
     "text": [
      "6700.0\n"
     ]
    }
   ],
   "source": [
    "Nat.balance()"
   ]
  },
  {
   "cell_type": "code",
   "execution_count": 31,
   "metadata": {},
   "outputs": [
    {
     "data": {
      "text/plain": [
       "-10900.0"
      ]
     },
     "execution_count": 31,
     "metadata": {},
     "output_type": "execute_result"
    }
   ],
   "source": [
    "Nat.remove_amount(20000)"
   ]
  },
  {
   "cell_type": "code",
   "execution_count": 20,
   "metadata": {},
   "outputs": [
    {
     "data": {
      "text/plain": [
       "6700.0"
      ]
     },
     "execution_count": 20,
     "metadata": {},
     "output_type": "execute_result"
    }
   ],
   "source": [
    "Nat.add_amount(20000)"
   ]
  },
  {
   "cell_type": "code",
   "execution_count": 21,
   "metadata": {},
   "outputs": [
    {
     "name": "stdout",
     "output_type": "stream",
     "text": [
      "6700.0\n",
      "Burst-Burst-Burst-Burst-Burst-Burst-\n",
      "Please credit your account\n"
     ]
    }
   ],
   "source": [
    "while Nat.balance() < 0:\n",
    "    print(\"Burst-\" *6)\n",
    "    print(\"Please credit your account\")\n",
    "    break"
   ]
  },
  {
   "cell_type": "code",
   "execution_count": 22,
   "metadata": {},
   "outputs": [
    {
     "name": "stdout",
     "output_type": "stream",
     "text": [
      "Burst-\n",
      "Burst-\n",
      "Burst-\n",
      "Burst-\n",
      "Burst-\n",
      "Burst-\n"
     ]
    }
   ],
   "source": [
    "import time\n",
    "x= \"Burst- \" *6\n",
    "#print(x)\n",
    "for i in x.split():\n",
    "    print(i)\n",
    "    time.sleep(2)"
   ]
  },
  {
   "cell_type": "code",
   "execution_count": 23,
   "metadata": {},
   "outputs": [
    {
     "name": "stdout",
     "output_type": "stream",
     "text": [
      "6700.0\n"
     ]
    }
   ],
   "source": [
    "import time\n",
    "#bal=0\n",
    "#bal2=Nat.balance()\n",
    "while   Nat.balance() > 0:\n",
    "    x= \"------------Burst------------------- \" *6\n",
    "\n",
    "    for i in x.split():\n",
    "        print(i)\n",
    "        time.sleep(2)\n",
    "    \n",
    "    print(\"Please credit your account\")\n",
    "    break\n",
    "    "
   ]
  },
  {
   "cell_type": "code",
   "execution_count": 24,
   "metadata": {},
   "outputs": [
    {
     "name": "stdout",
     "output_type": "stream",
     "text": [
      "6700.0\n"
     ]
    }
   ],
   "source": [
    "Nat.balance()"
   ]
  },
  {
   "cell_type": "code",
   "execution_count": 25,
   "metadata": {},
   "outputs": [
    {
     "ename": "NameError",
     "evalue": "name 'bal2' is not defined",
     "output_type": "error",
     "traceback": [
      "\u001b[1;31m---------------------------------------------------------------------------\u001b[0m",
      "\u001b[1;31mNameError\u001b[0m                                 Traceback (most recent call last)",
      "\u001b[1;32m<ipython-input-25-4053b0938d72>\u001b[0m in \u001b[0;36m<module>\u001b[1;34m()\u001b[0m\n\u001b[1;32m----> 1\u001b[1;33m \u001b[1;32mprint\u001b[0m\u001b[1;33m(\u001b[0m\u001b[0mbal2\u001b[0m\u001b[1;33m)\u001b[0m\u001b[1;33m\u001b[0m\u001b[0m\n\u001b[0m",
      "\u001b[1;31mNameError\u001b[0m: name 'bal2' is not defined"
     ]
    }
   ],
   "source": [
    "print(bal2)"
   ]
  },
  {
   "cell_type": "code",
   "execution_count": null,
   "metadata": {},
   "outputs": [],
   "source": [
    "print(bal)\n",
    "print(Nat.balance())"
   ]
  },
  {
   "cell_type": "code",
   "execution_count": null,
   "metadata": {},
   "outputs": [],
   "source": [
    "Nat.balance() > 0"
   ]
  },
  {
   "cell_type": "code",
   "execution_count": null,
   "metadata": {
    "collapsed": true
   },
   "outputs": [],
   "source": []
  }
 ],
 "metadata": {
  "kernelspec": {
   "display_name": "python3.6",
   "language": "python",
   "name": "python3.6"
  },
  "language_info": {
   "codemirror_mode": {
    "name": "ipython",
    "version": 2
   },
   "file_extension": ".py",
   "mimetype": "text/x-python",
   "name": "python",
   "nbconvert_exporter": "python",
   "pygments_lexer": "ipython2",
   "version": "2.7.11"
  }
 },
 "nbformat": 4,
 "nbformat_minor": 1
}
